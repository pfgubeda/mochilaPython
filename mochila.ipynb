{
 "cells": [
  {
   "cell_type": "markdown",
   "metadata": {},
   "source": [
    "# Problema de la Mochila\n",
    "\n",
    "A continuación se muestran los diferentes pasos de la solución al Problema de La Mochila empleando la librería [DEAP](https://github.com/DEAP/deap) de Python"
   ]
  },
  {
   "cell_type": "markdown",
   "metadata": {},
   "source": [
    "## Descripcion del problema\n",
    "Se puede encontrar una descripción completa del problema de la mochila en el siguiente [enlace](https://es.wikipedia.org/wiki/Problema_de_la_mochila)."
   ]
  },
  {
   "cell_type": "code",
   "execution_count": 110,
   "metadata": {},
   "outputs": [],
   "source": [
    "import random\n",
    "import numpy as np\n",
    "\n",
    "import matplotlib.pyplot as plt\n",
    "\n",
    "from deap import base, creator\n",
    "from deap import tools\n",
    "from deap import algorithms"
   ]
  },
  {
   "cell_type": "markdown",
   "metadata": {},
   "source": [
    "## Datos del problema\n",
    "Por simplificación, aquí se incluyen ya los vectores que contienen los datos del problema. En muchos casos, es probable que tengamos que extraerlos de un fichero externo."
   ]
  },
  {
   "cell_type": "code",
   "execution_count": 111,
   "metadata": {},
   "outputs": [],
   "source": [
    "#Trabajamos con 5 objetos\n",
    "values = [10,200,50,120,200] # valor de cada objeto\n",
    "weights = [45,80,25,15,75] # peso de cada objeto\n",
    "knapsackMax = 200 # peso maximo que se puede cargar en la mochila"
   ]
  },
  {
   "cell_type": "markdown",
   "metadata": {},
   "source": [
    "## Configuración de la Solución"
   ]
  },
  {
   "cell_type": "markdown",
   "metadata": {},
   "source": [
    "### Estructuras de datos de configuración\n",
    "\n",
    "En primer lugar, se crea el objeto donde iremos guardando las diferentes configuraciones"
   ]
  },
  {
   "cell_type": "code",
   "execution_count": 112,
   "metadata": {},
   "outputs": [],
   "source": [
    "toolbox = base.Toolbox()"
   ]
  },
  {
   "cell_type": "markdown",
   "metadata": {},
   "source": [
    "### Configuración de los Individuos\n",
    "\n",
    "Esta configuración dependerá del problema. Queda a decisión del programador la definición de cada individuo.\n",
    "\n",
    "1. En primer lugar Se configura el fitness que se va a emplear en los individuos  \n",
    "En este caso se configura para:  \n",
    "    a.buscar un único objetivo: es una tupla de solo un numero  \n",
    "    b.maximizar ese objetivo (se multiplica por un positivo)  \n",
    "    \n",
    "2. Se configura el individuo para que utilice la descripción anterior de fitness dentro de los individuos"
   ]
  },
  {
   "cell_type": "code",
   "execution_count": 113,
   "metadata": {},
   "outputs": [],
   "source": [
    "creator.create(\"FitnessMax\", base.Fitness, weights=(1.0,))\n",
    "creator.create(\"Individual\", list, fitness=creator.FitnessMax)"
   ]
  },
  {
   "cell_type": "markdown",
   "metadata": {},
   "source": [
    "1. Se configura el atributo (\"attribute\") con el que se generará cada gen del individuo\n",
    "2. El individuo se crea como una lista (o repeticion) de \"attribute\", definido justo antes\n",
    "3. La población se crea como una lista de \"individual\", definido justo antes"
   ]
  },
  {
   "cell_type": "code",
   "execution_count": 114,
   "metadata": {},
   "outputs": [],
   "source": [
    "# Ejemplo de Genotipo cuyos genes son de tipo booleano '''\n",
    "toolbox.register(\"attribute\", random.randint, 0, 1)\n",
    "#Tendrá una longitud de 5 atributos \n",
    "toolbox.register(\"individual\", tools.initRepeat, creator.Individual, toolbox.attribute, n=5)\n",
    "toolbox.register(\"population\", tools.initRepeat, list, toolbox.individual) "
   ]
  },
  {
   "cell_type": "markdown",
   "metadata": {},
   "source": [
    "Se comprueba que está correctamente definido. \n",
    "No es necesario incluir esta celda en el experimento final."
   ]
  },
  {
   "cell_type": "code",
   "execution_count": 115,
   "metadata": {},
   "outputs": [
    {
     "name": "stdout",
     "output_type": "stream",
     "text": [
      "Individuo:  [1, 1, 0, 1, 0]\n",
      "Poblacion:  [[0, 1, 0, 0, 0], [1, 1, 1, 0, 1], [0, 1, 0, 1, 1], [1, 0, 1, 1, 1], [0, 1, 1, 0, 0], [0, 1, 0, 1, 0], [0, 1, 1, 0, 0], [0, 0, 1, 0, 1], [0, 1, 0, 0, 0], [1, 0, 1, 0, 1]]\n"
     ]
    }
   ],
   "source": [
    "# Se genera un único individuo\n",
    "ind = toolbox.individual()\n",
    "print(\"Individuo: \",ind)\n",
    "    \n",
    "# Se inicializa la poblacion. Tendrá un total de 10 individuos. Se genera como una lista de individuos.\n",
    "pop = toolbox.population(n=10)\n",
    "\n",
    "# Se imprime la población: 10 individuos de 5 genes cada uno\n",
    "print(\"Poblacion: \",pop)"
   ]
  },
  {
   "cell_type": "markdown",
   "metadata": {},
   "source": [
    "## Evaluación de la Adaptación\n",
    "\n",
    "Para poder ejecutar el algoritmo genético, tendremos que implementar una función que, dado un individuo, nos indique (de manera numérica) cómo de adaptado está a la solución que estamos buscando."
   ]
  },
  {
   "cell_type": "code",
   "execution_count": 116,
   "metadata": {},
   "outputs": [],
   "source": [
    "def evalKnapsack(individual):\n",
    "\n",
    "    value = 0.0\n",
    "    weight = 0.0\n",
    "    \n",
    "    # Producto vectorial de un individuo (boolean) por los datos (float)\n",
    "    # Multiplica cada bit del individuo por el valor correspondiente en el vector de datos\n",
    "    # y finalmente hace la suma de todos\n",
    "    value = np.dot(individual,values)\n",
    "    weight = np.dot(individual,weights) # Mismo cáculo para el vector de pesos\n",
    "\n",
    "    # Se penaliza en caso de que el peso de la mochila exceda el maximo\n",
    "    diff = knapsackMax - weight\n",
    "    if(diff < 0):\n",
    "         value = value + (diff * 10) \n",
    "            \n",
    "    return value, "
   ]
  },
  {
   "cell_type": "markdown",
   "metadata": {},
   "source": [
    "## Configuración del algoritmo genético\n",
    "\n",
    "Ya hemos configurado todas las partes diréctamente relacionadas con el problema a resolver. A continuación vamos a configurar cómo queremos que la librería DEAP realice la evolución de los individuos que representan soluciones hasta encontrar la más adecuada.\n",
    "Esta parte consiste en seleccionar que procedimientos queremos emplear en cada una de las partes del ciclo evolutivo."
   ]
  },
  {
   "cell_type": "code",
   "execution_count": 117,
   "metadata": {},
   "outputs": [],
   "source": [
    "# Se seleccionan procedimiento standard para cruce, mutacion y seleccion. Se recomienda repasar el material visto en teoría.\n",
    "toolbox.register(\"select\", tools.selTournament, tournsize=3) # seleccion\n",
    "toolbox.register(\"mate\", tools.cxOnePoint) # cruce\n",
    "toolbox.register(\"mutate\", tools.mutFlipBit, indpb=0.2) # mutacion\n",
    "\n",
    "# Se define cómo se evaluará cada individuo\n",
    "# En este caso, se hará uso de la función de evaluación que se ha definido en la sección anterior\n",
    "toolbox.register(\"evaluate\", evalKnapsack)"
   ]
  },
  {
   "cell_type": "markdown",
   "metadata": {},
   "source": [
    "## Configuración de las estadísticas\n",
    "\n",
    "Si deseamos obtener algún valor para ayudarnos a comprender cómo avanza el algoritmo, debemos hacerlo en el objeto del tipo Statistics. Éste calcula resúmenes sobre la función de adaptación que contienen el conjunto de los individuos de la población."
   ]
  },
  {
   "cell_type": "code",
   "execution_count": 118,
   "metadata": {},
   "outputs": [],
   "source": [
    "# Se configura que estadísticas se quieren analizar \n",
    "stats = tools.Statistics(lambda ind: ind.fitness.values) \n",
    "stats.register(\"avg\", np.mean) \n",
    "stats.register(\"std\", np.std) \n",
    "stats.register(\"min\", np.min) \n",
    "stats.register(\"max\", np.max) "
   ]
  },
  {
   "cell_type": "markdown",
   "metadata": {},
   "source": [
    "## Ejecución del Algoritmo\n",
    "\n",
    "Se ejecuta el ciclo evolutivo durante el número de generaciones determindo.\n",
    "Se debe tener en cuenta que, al ser un ejemplo, el problema es muy simple y no es necesario iterar durante mucho tiempo. En los casos reales, tanto el tamaño de la población, como el número de generaciones probablemente deban ser mucho mayores."
   ]
  },
  {
   "cell_type": "code",
   "execution_count": 119,
   "metadata": {},
   "outputs": [
    {
     "name": "stdout",
     "output_type": "stream",
     "text": [
      "El resultado de la evolución es: \n",
      "gen\tnevals\tavg\tstd    \tmin\tmax\n",
      "0  \t10    \t319\t136.635\t50 \t570\n",
      "1  \t7     \t393\t170.649\t120\t570\n",
      "2  \t7     \t516\t82.8493\t370\t570\n",
      "3  \t9     \t525\t90.6918\t320\t570\n",
      "4  \t8     \t491\t130.265\t180\t570\n",
      "5  \t4     \t545\t75     \t320\t570\n",
      "6  \t3     \t525\t90.6918\t320\t570\n",
      "7  \t7     \t528\t78.5875\t320\t570\n",
      "8  \t4     \t534\t72.5534\t370\t570\n",
      "9  \t4     \t570\t0      \t570\t570\n",
      "10 \t3     \t570\t0      \t570\t570\n",
      "11 \t8     \t495\t105.475\t320\t570\n",
      "12 \t6     \t565\t15     \t520\t570\n",
      "13 \t10    \t570\t0      \t570\t570\n",
      "14 \t7     \t545\t60.208 \t370\t570\n",
      "15 \t7     \t510\t128.062\t170\t570\n",
      "16 \t4     \t519\t118.528\t180\t570\n",
      "17 \t5     \t545\t75     \t320\t570\n",
      "18 \t9     \t545\t75     \t320\t570\n",
      "19 \t9     \t558\t36     \t450\t570\n",
      "20 \t5     \t540\t74.8331\t320\t570\n",
      "La mejor solucion encontrada es: \n",
      "[0, 1, 1, 1, 1]\n"
     ]
    }
   ],
   "source": [
    "# Se genera una población inicial. El tamaño será siempre de 10 individuos.\n",
    "population = toolbox.population(n=10)\n",
    "\n",
    "# Se llama al algoritmo que permite la evolucion de las soluciones\n",
    "population, logbook = algorithms.eaSimple(population, toolbox, \n",
    "                                    cxpb=0.5, mutpb=0.2, # Probabilidades de cruce y mutacion\n",
    "                                    ngen=20, verbose=False, stats=stats) # Numero de generaciones a completar y estadisticas a recoger\n",
    "\n",
    "# Por cada generación, la estructura de logbook va almacenando un resumen de los avances del algoritmo.\n",
    "print(\"El resultado de la evolución es: \")\n",
    "print(logbook)\n",
    "\n",
    "print(\"La mejor solucion encontrada es: \")\n",
    "print(tools.selBest(population,1)[0])"
   ]
  },
  {
   "cell_type": "markdown",
   "metadata": {},
   "source": [
    "## Representación de los resultados\n",
    "Por último, se pueden obtener gráficas empleando los datos de las estadísticas recogidas, para visualizarlos de forma más intuitiva."
   ]
  },
  {
   "cell_type": "code",
   "execution_count": 120,
   "metadata": {},
   "outputs": [
    {
     "data": {
      "text/plain": [
       "[]"
      ]
     },
     "execution_count": 120,
     "metadata": {},
     "output_type": "execute_result"
    },
    {
     "data": {
      "image/png": "[encoded data removed]",
      "text/plain": [
       "<Figure size 432x288 with 1 Axes>"
      ]
     },
     "metadata": {
      "needs_background": "light"
     },
     "output_type": "display_data"
    }
   ],
   "source": [
    "# Se recuperan los datos desde el log\n",
    "gen = logbook.select(\"gen\")\n",
    "avgs = logbook.select(\"avg\")\n",
    "    \n",
    "# Se establece una figura para dibujar\n",
    "fig = plt.figure()\n",
    "    \n",
    "# Se representa la media del valor de fitness por cada generación\n",
    "ax1 = plt.gca()\n",
    "line1 = ax1.plot(gen, avgs, \"r-\", label=\"Average Fitness\")    \n",
    "ax1.set_xlabel(\"Generation\")\n",
    "ax1.set_ylabel(\"Fitness\", color=\"b\")\n",
    "    \n",
    "plt.plot()"
   ]
  },
  {
   "cell_type": "code",
   "execution_count": null,
   "metadata": {},
   "outputs": [],
   "source": []
  }
 ],
 "metadata": {
  "interpreter": {
   "hash": "cbc535052fe6eb31943dffd2823d4e68c6462d8f4400f9a1c2e11a31459062f6"
  },
  "kernelspec": {
   "display_name": "Python 3 (ipykernel)",
   "language": "python",
   "name": "python3"
  },
  "language_info": {
   "codemirror_mode": {
    "name": "ipython",
    "version": 3
   },
   "file_extension": ".py",
   "mimetype": "text/x-python",
   "name": "python",
   "nbconvert_exporter": "python",
   "pygments_lexer": "ipython3",
   "version": "3.9.7"
  }
 },
 "nbformat": 4,
 "nbformat_minor": 2
}
